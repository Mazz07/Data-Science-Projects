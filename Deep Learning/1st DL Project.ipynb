{
 "cells": [
  {
   "cell_type": "code",
   "execution_count": null,
   "id": "88a503c1",
   "metadata": {},
   "outputs": [],
   "source": [
    "import keras\n",
    "import numpy as np\n",
    "import pandas as pd\n",
    "import matplotlib.pyplot as plt\n",
    "import seaborn as sns\n",
    "from tensorflow.keras.models import load_model"
   ]
  },
  {
   "cell_type": "code",
   "execution_count": null,
   "id": "80d8e307",
   "metadata": {},
   "outputs": [],
   "source": [
    "(x_trian,y_trian),(x_test,y_test) = keras.datasets.fashion_mnist.load_data()"
   ]
  },
  {
   "cell_type": "code",
   "execution_count": null,
   "id": "da65b63f",
   "metadata": {},
   "outputs": [],
   "source": [
    "x_trian.shape,y_trian.shape"
   ]
  },
  {
   "cell_type": "code",
   "execution_count": null,
   "id": "6a168db4",
   "metadata": {},
   "outputs": [],
   "source": [
    "x_test.shape,y_test.shape"
   ]
  },
  {
   "cell_type": "code",
   "execution_count": null,
   "id": "b8f2472c",
   "metadata": {},
   "outputs": [],
   "source": [
    "x_trian[0]"
   ]
  },
  {
   "cell_type": "code",
   "execution_count": null,
   "id": "f6686dcf",
   "metadata": {},
   "outputs": [],
   "source": [
    "y_trian[0]"
   ]
  },
  {
   "cell_type": "code",
   "execution_count": null,
   "id": "659dbfc5",
   "metadata": {},
   "outputs": [],
   "source": [
    "class_labels = ['T-shirt/top','Trouser','Pullover','Dress','Coat','Sandal','Shirt','Sneaker', 'Bag', 'Ankle boot']"
   ]
  },
  {
   "cell_type": "code",
   "execution_count": null,
   "id": "ab9487e4",
   "metadata": {},
   "outputs": [],
   "source": [
    "plt.imshow(x_trian[0],cmap = \"Greys\")"
   ]
  },
  {
   "cell_type": "code",
   "execution_count": null,
   "id": "20bfd854",
   "metadata": {},
   "outputs": [],
   "source": [
    "plt.figure(figsize = (16,16))\n",
    "for i in range(25):\n",
    "    plt.subplot(5,5,i+1)\n",
    "    plt.imshow(x_trian[i],cmap = 'Greys')    \n",
    "    plt.axis('off')\n",
    "    plt.title(class_labels[y_trian[i]]+'='+str(y_trian[i]),fontsize = 20)"
   ]
  },
  {
   "cell_type": "markdown",
   "id": "33d108a1",
   "metadata": {},
   "source": [
    "# Feature Scaling"
   ]
  },
  {
   "cell_type": "code",
   "execution_count": null,
   "id": "1f8fc268",
   "metadata": {},
   "outputs": [],
   "source": [
    "x_train = x_trian/255\n",
    "x_test = x_test/255"
   ]
  },
  {
   "cell_type": "code",
   "execution_count": null,
   "id": "699274b5",
   "metadata": {},
   "outputs": [],
   "source": [
    "x_train[0]"
   ]
  },
  {
   "cell_type": "markdown",
   "id": "63d5a48d",
   "metadata": {},
   "source": [
    "# Build a Neural Network"
   ]
  },
  {
   "cell_type": "code",
   "execution_count": null,
   "id": "cba2f2e9",
   "metadata": {},
   "outputs": [],
   "source": [
    "model = keras.models.Sequential([\n",
    "                            keras.layers.Flatten(input_shape = [28,28]),\n",
    "                            keras.layers.Dense(units = 32,activation = 'relu'),\n",
    "                            keras.layers.Dense(units = 10,activation = 'softmax')\n",
    "    \n",
    "])"
   ]
  },
  {
   "cell_type": "code",
   "execution_count": null,
   "id": "f1451641",
   "metadata": {},
   "outputs": [],
   "source": [
    "model.summary()"
   ]
  },
  {
   "cell_type": "code",
   "execution_count": null,
   "id": "8cc9ec6f",
   "metadata": {},
   "outputs": [],
   "source": [
    "model.compile(loss='binary_crossentropy',\n",
    "              optimizer='Adam',\n",
    "              metrics=['Accuracy'])\n"
   ]
  },
  {
   "cell_type": "code",
   "execution_count": null,
   "id": "9207962b",
   "metadata": {},
   "outputs": [],
   "source": [
    "model.fit(x_trian,y_trian,epochs=1)"
   ]
  },
  {
   "cell_type": "code",
   "execution_count": null,
   "id": "450f4246",
   "metadata": {},
   "outputs": [],
   "source": []
  }
 ],
 "metadata": {
  "kernelspec": {
   "display_name": "Python 3 (ipykernel)",
   "language": "python",
   "name": "python3"
  },
  "language_info": {
   "codemirror_mode": {
    "name": "ipython",
    "version": 3
   },
   "file_extension": ".py",
   "mimetype": "text/x-python",
   "name": "python",
   "nbconvert_exporter": "python",
   "pygments_lexer": "ipython3",
   "version": "3.9.2"
  }
 },
 "nbformat": 4,
 "nbformat_minor": 5
}
